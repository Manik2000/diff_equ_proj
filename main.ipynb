{
 "cells": [
  {
   "cell_type": "markdown",
   "metadata": {},
   "source": [
    "<h1 style=\"color:#daa03d; text-align:center;\"> Interspecific interactions"
   ]
  },
  {
   "cell_type": "markdown",
   "metadata": {},
   "source": [
    "We are going to describe two different interspecific interactions, namely:\n",
    "- predation,\n",
    "- mutualism.\n",
    "\n",
    "(*Perhaps, we will deal also with competition*)"
   ]
  },
  {
   "cell_type": "markdown",
   "metadata": {},
   "source": [
    "## Predation"
   ]
  },
  {
   "cell_type": "code",
   "execution_count": null,
   "metadata": {},
   "outputs": [],
   "source": []
  },
  {
   "cell_type": "markdown",
   "metadata": {},
   "source": [
    "## Mutualism"
   ]
  },
  {
   "cell_type": "markdown",
   "metadata": {},
   "source": [
    "Mutualism is a kind of species interactions in which every species has benefits. One can give a lot of examples, for instance:\n",
    "- something and something,\n",
    "- something and something,\n",
    "- something and something."
   ]
  },
  {
   "cell_type": "markdown",
   "metadata": {},
   "source": [
    "A very naive approach would be a system like this one:\n",
    "\n",
    " $$ \\begin{cases} y_1^{'} = \\alpha_1 y_1 + \\beta_1 y_1 y_2 \\\\ y_{2}^{'} = \\alpha_2 y_2 + \\beta_2 y_1 y_2\\end{cases}$$\n",
    " \n",
    "where constants $\\alpha_1$, $\\alpha_2$, $\\beta_1$, $\\beta_2$ are all positive. We can immediately see that this model is completely unreallistic since both species would grow infinitely.\n",
    "\n",
    "It seems reasonably to add an environmental capacity $K$, and thus we will obtain:\n",
    "\n",
    "$$\\begin{cases} y_{1}^{'} = r_1y_1\\left(1 - \\frac{N_1}{K_1} + b_{12}\\frac{N_2}{K_1}\\right) \\\\ y_2^{'} = r_2y_2\\left(1 - \\frac{N_2}{K_2}+b_{21}\\frac{N_1}{K_2}\\right)\\end{cases}$$"
   ]
  },
  {
   "cell_type": "markdown",
   "metadata": {},
   "source": [
    "## References"
   ]
  },
  {
   "cell_type": "markdown",
   "metadata": {},
   "source": [
    "[1] Murray \"Mathematical Biology\""
   ]
  },
  {
   "cell_type": "code",
   "execution_count": null,
   "metadata": {},
   "outputs": [],
   "source": []
  }
 ],
 "metadata": {
  "kernelspec": {
   "display_name": "Julia 1.4.1",
   "language": "julia",
   "name": "julia-1.4"
  },
  "language_info": {
   "file_extension": ".jl",
   "mimetype": "application/julia",
   "name": "julia",
   "version": "1.4.1"
  }
 },
 "nbformat": 4,
 "nbformat_minor": 4
}
