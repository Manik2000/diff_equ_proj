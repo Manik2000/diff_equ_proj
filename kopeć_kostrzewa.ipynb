{
 "cells": [
  {
   "cell_type": "markdown",
   "metadata": {},
   "source": [
    "# Notki od Plociniczaka (komentarz)\n",
    "Wstęp. Powinien wprowadzać czytelnika w temat projektu oraz zawierać motywacje, cel i znaczenie wykonanej\n",
    "pracy. Notka historyczna jest również bardzo mile widziana.\n",
    "\n",
    "• Opis zjawiska/podstawy teoretyczne. W tym dziale znajdować si ˛e powinny wszystkie potrzebne (techniczne)\n",
    "informacje dotycz ˛ace opisywanego tematu. Zawiera on na przykład definicje, z których później korzystamy lub\n",
    "opis zjawiska fizycznego, które modelujemy.\n",
    "1\n",
    "\n",
    "• Wyniki. Jest to główna cz ˛eść projektu zawieraj ˛aca obliczenia, rachunki numeryczne oraz analiz ˛e danych eksperymentalnych. To, co dokładnie si ˛e tu znajdzie, w bardzo dużym stopniu zależy od tematu projektu i pomysłu\n",
    "autora. Algorytm numeryczny służ ˛acy do rozwi ˛azywania równania różniczkowego trzeba zaimplementować\n",
    "samemu.\n",
    "\n",
    "• Podsumowanie i wnioski. Krótki opis tego, co zostało zrobione i co z tego wynika.\n",
    "\n",
    "• Literatura. Spis wykorzystanych prac innych autorów. Bibliografia powinna być numerowana z użyciem\n",
    "kwadratowych nawiasów, np. [1]. Każda pozycja musi mieć odnośnik w głównym tekście pracy. Standard\n",
    "bibliograficzny odwołań powinien być jednakowy dla wszystkich pozycji. Można odwoływać si ˛e również do\n",
    "stron internetowych, ale zaznaczmy, że Wikipedia nie jest źródłem naukowym. Stanowi ona jednak bardzo\n",
    "dobre źródło odnośników do oryginalnych prac. Polecam również korzystanie z Google Scholar do znajdywania\n",
    "artykułów"
   ]
  },
  {
   "cell_type": "markdown",
   "metadata": {},
   "source": [
    "<h1 style=\"color:#daa03d; text-align:center;\"> Modelling interspecific interactions"
   ]
  },
  {
   "cell_type": "markdown",
   "metadata": {},
   "source": [
    "Interspecific interactions is a study of all interactions between species, its causes and consequences. Those interactions can be categorized into five groups:\n",
    "\n",
    "- competition\n",
    "- predation\n",
    "- commensalism\n",
    "- mutualism \n",
    "- parasitism\n",
    "\n",
    "In our work we will discuss differential models of predation and mutualism."
   ]
  },
  {
   "cell_type": "markdown",
   "metadata": {},
   "source": [
    "To solve systems of differential equations we will be using the Runge-Kutta method for the reason being its stability and ...\n",
    "\n",
    "(probably an overview of Runge-Kutta method)"
   ]
  },
  {
   "cell_type": "code",
   "execution_count": 4,
   "metadata": {},
   "outputs": [],
   "source": [
    "using Plots\n",
    "\"\"\"\n",
    "    evaluate(array::Array{Function, 1}, X::Real, Y::Array{Real, 1})::Array{Real, 1}\n",
    "Return an array with values of function f(t, y₁, y₂) defined in array for given point X\n",
    "\"\"\"\n",
    "function evaluate(array::Array{Function, 1}, X::Real, Y)::Array{Real, 1}\n",
    "    return [i(X, Y[1], Y[2]) for i in array]\n",
    "end\n",
    "\"\"\"\n",
    "    runge_kutta_for_systems(F::Array{Function, 1}, x::Real, X::Real, Y::Array{Real, 1}, h::Real=1e-3)\n",
    "Return an array with values of functions which are solutions to the system of differential equations defined by the array.\n",
    "X and Y are initial conditions, x is the maximum point.\n",
    "\"\"\"\n",
    "function runge_kutta_for_systems(F::Array{Function, 1}, x::Real, X::Real, Y::Array, h::Real=1e-3)\n",
    "    n = round(Int64, x / h)\n",
    "    array = zeros((n, 2))\n",
    "    for i in 1:n\n",
    "        k₁ = evaluate(F, X, Y)\n",
    "        k₂ = evaluate(F, X + 1/2 * h, Y .+ 1/2 * h * k₁)\n",
    "        k₃ = evaluate(F, X + 1/2 * h, Y .+ 1/2 * h * k₂)\n",
    "        k₄ = evaluate(F, X + h, Y .+ h * k₃)\n",
    "        Y = @. Y + h / 6 * (k₁ + 2*k₂ + 2*k₃ + k₄)\n",
    "        X = X + h\n",
    "        array[i, :] = Y\n",
    "    end\n",
    "    return array\n",
    "end\n",
    "nothing"
   ]
  },
  {
   "cell_type": "markdown",
   "metadata": {},
   "source": [
    "## Predation\n",
    "(introduction)"
   ]
  },
  {
   "cell_type": "markdown",
   "metadata": {},
   "source": [
    "### Lotka-Volterra\n",
    "\n",
    "Around the year 1920 there were two mathematicians: Lotka and Volterra who independently proposed a differential model that describes the dynamics of a predator-prey relation. This naïve model is mostly discussed as an introduction to relation modelling and because of its historical significance."
   ]
  },
  {
   "cell_type": "markdown",
   "metadata": {},
   "source": [
    "This model generally shows the oscillatory tendency of this system, but has any limitations due to its assumptions [1]:\n",
    "\n",
    " 1. the prey population will grow exponentially when the predator is absent; \n",
    " 2. the predator population will starve in the absence of the prey population (as opposed to switching to another type of prey);\n",
    " 3. predators can consume infinite quantities of prey; \n",
    " 4. there is no environmental complexity (in other words, both populations are moving randomly through a homogeneous environment).\n",
    " \n",
    "From that we can formulate the system of differential equations:\n",
    " \n",
    "$$\\begin{cases} y_1' = a y_1 - b y_1 y_2)\\\\ y_2' = c y_2 y_1 - d y_2\\end{cases}$$\n",
    " \n",
    "where $a, b, c, d$ are positive constants and $y_1, y_2$ are respectively prey population and predator population.\n",
    "\n",
    "The first equation describes the prey, the ..."
   ]
  },
  {
   "cell_type": "markdown",
   "metadata": {},
   "source": [
    "#### Solving"
   ]
  },
  {
   "cell_type": "code",
   "execution_count": 61,
   "metadata": {},
   "outputs": [],
   "source": [
    "array = [(t, y₁, y₂) -> (y₁ * (1.0 - y₂)),\n",
    "         (t, y₁, y₂) -> (y₂ * (y₁ - 1.0))]\n",
    "Y2 = [6.0, 5.0]\n",
    "b = runge_kutta_for_systems(array, 20, 0, Y2)\n",
    "\n",
    "p = plot(b[:, 1], label=\"prey\")\n",
    "p = plot!(b[:, 2], label=\"predator\")\n",
    "# display(p)\n",
    "p = plot(b[:, 2], b[:, 1], label=nothing, xlabel=\"prey\", ylabel=\"predator\")\n",
    "# display(p)\n",
    "nothing"
   ]
  },
  {
   "cell_type": "markdown",
   "metadata": {},
   "source": [
    "### Realistic Lotka-Volterra\n",
    "Realistic, better, yea"
   ]
  },
  {
   "cell_type": "code",
   "execution_count": 60,
   "metadata": {},
   "outputs": [
    {
     "ename": "LoadError",
     "evalue": "syntax: extra token \"model\" after end of expression",
     "output_type": "error",
     "traceback": [
      "syntax: extra token \"model\" after end of expression",
      "",
      "Stacktrace:",
      " [1] top-level scope at In[60]:1",
      " [2] include_string(::Function, ::Module, ::String, ::String) at .\\loading.jl:1091",
      " [3] execute_code(::String, ::String) at C:\\Users\\borys\\.julia\\packages\\IJulia\\a1SNk\\src\\execute_request.jl:27",
      " [4] execute_request(::ZMQ.Socket, ::IJulia.Msg) at C:\\Users\\borys\\.julia\\packages\\IJulia\\a1SNk\\src\\execute_request.jl:86",
      " [5] #invokelatest#1 at .\\essentials.jl:710 [inlined]",
      " [6] invokelatest at .\\essentials.jl:709 [inlined]",
      " [7] eventloop(::ZMQ.Socket) at C:\\Users\\borys\\.julia\\packages\\IJulia\\a1SNk\\src\\eventloop.jl:8",
      " [8] (::IJulia.var\"#15#18\")() at .\\task.jl:356"
     ]
    }
   ],
   "source": [
    "This model is this:"
   ]
  },
  {
   "cell_type": "markdown",
   "metadata": {},
   "source": [
    "#### Solving"
   ]
  },
  {
   "cell_type": "code",
   "execution_count": 62,
   "metadata": {},
   "outputs": [],
   "source": [
    "array = [(t, y₁, y₂) -> (y₁ * (1.0 - y₂)),\n",
    "         (t, y₁, y₂) -> (y₂ * (y₁ - 1.0))]\n",
    "Y2 = [6.0, 5.0]\n",
    "b = runge_kutta_for_systems(array, 20, 0, Y2)\n",
    "\n",
    "p = plot(b[:, 1], label=\"prey\")\n",
    "p = plot!(b[:, 2], label=\"predator\")\n",
    "# display(p)\n",
    "p = plot(b[:, 2], b[:, 1], label=nothing, xlabel=\"prey\", ylabel=\"predator\")\n",
    "# display(p)\n",
    "nothing"
   ]
  },
  {
   "cell_type": "markdown",
   "metadata": {},
   "source": [
    "## Mutualism\n",
    "\n",
    "Mutualism is a kind of species interactions in which every species has benefits. One can give a lot of examples, for instance:\n",
    "- something and something,\n",
    "- something and something,\n",
    "- something and something."
   ]
  },
  {
   "cell_type": "markdown",
   "metadata": {},
   "source": [
    "A very naive approach would be a system like this one:\n",
    "\n",
    " $$ \\begin{cases} y_1^{'} = \\alpha_1 y_1 + \\beta_1 y_1 y_2 \\\\ y_{2}^{'} = \\alpha_2 y_2 + \\beta_2 y_1 y_2\\end{cases}$$\n",
    " \n",
    "where constants $\\alpha_1$, $\\alpha_2$, $\\beta_1$, $\\beta_2$ are all positive. We can immediately see that this model is completely unreallistic since both species would grow infinitely.\n",
    "\n",
    "It seems reasonably to add an environmental capacity $K$, and thus we will obtain:\n",
    "\n",
    "$$\\begin{cases} y_{1}^{'} = r_1y_1\\left(1 - \\frac{N_1}{K_1} + b_{12}\\frac{N_2}{K_1}\\right) \\\\ y_2^{'} = r_2y_2\\left(1 - \\frac{N_2}{K_2}+b_{21}\\frac{N_1}{K_2}\\right)\\end{cases}$$"
   ]
  },
  {
   "cell_type": "markdown",
   "metadata": {},
   "source": [
    "## References"
   ]
  },
  {
   "cell_type": "markdown",
   "metadata": {},
   "source": [
    "[1] [PREDATOR-PREY DYNAMICS: LOTKA-VOLTERRA](http://www.tiem.utk.edu/~gross/bioed/bealsmodules/predator-prey.html)\n",
    "\n",
    "[2] Murray \"Mathematical Biology\""
   ]
  }
 ],
 "metadata": {
  "kernelspec": {
   "display_name": "Julia 1.5.2",
   "language": "julia",
   "name": "julia-1.5"
  },
  "language_info": {
   "file_extension": ".jl",
   "mimetype": "application/julia",
   "name": "julia",
   "version": "1.5.2"
  }
 },
 "nbformat": 4,
 "nbformat_minor": 4
}
